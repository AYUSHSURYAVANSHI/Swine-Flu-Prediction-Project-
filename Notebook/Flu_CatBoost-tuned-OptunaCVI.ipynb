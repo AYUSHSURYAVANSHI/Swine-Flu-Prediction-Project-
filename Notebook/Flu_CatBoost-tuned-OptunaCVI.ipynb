{
 "cells": [
  {
   "cell_type": "markdown",
   "metadata": {},
   "source": [
    "<h1>Flu Shot Learning: Predict H1N1 and Seasonal Flu Vaccines</h1>"
   ]
  },
  {
   "cell_type": "markdown",
   "metadata": {},
   "source": [
    "## Imports"
   ]
  },
  {
   "cell_type": "code",
   "execution_count": 1,
   "metadata": {},
   "outputs": [],
   "source": [
    "import pandas as pd\n",
    "import numpy as np\n",
    "import matplotlib.pyplot as plt\n",
    "import seaborn as sns\n",
    "# import sweetviz as sv\n",
    "import ydata_profiling as yp\n",
    "%matplotlib inline"
   ]
  },
  {
   "cell_type": "code",
   "execution_count": 2,
   "metadata": {},
   "outputs": [
    {
     "name": "stdout",
     "output_type": "stream",
     "text": [
      "Requirement already up-to-date: ydata_profiling in /config/.local/lib/python3.8/site-packages (4.6.4)\n",
      "Requirement already satisfied, skipping upgrade: PyYAML<6.1,>=5.0.0 in /config/.local/lib/python3.8/site-packages (from ydata_profiling) (5.4.1)\n",
      "Requirement already satisfied, skipping upgrade: visions[type_image_path]==0.7.5 in /config/.local/lib/python3.8/site-packages (from ydata_profiling) (0.7.5)\n",
      "Requirement already satisfied, skipping upgrade: tqdm<5,>=4.48.2 in /config/.local/lib/python3.8/site-packages (from ydata_profiling) (4.56.2)\n",
      "Requirement already satisfied, skipping upgrade: wordcloud>=1.9.1 in /config/.local/lib/python3.8/site-packages (from ydata_profiling) (1.9.3)\n",
      "Requirement already satisfied, skipping upgrade: pandas!=1.4.0,<3,>1.1 in /config/.local/lib/python3.8/site-packages (from ydata_profiling) (1.2.1)\n",
      "Requirement already satisfied, skipping upgrade: jinja2<3.2,>=2.11.1 in /config/.local/lib/python3.8/site-packages (from ydata_profiling) (2.11.3)\n",
      "Requirement already satisfied, skipping upgrade: matplotlib<3.9,>=3.2 in /config/.local/lib/python3.8/site-packages (from ydata_profiling) (3.3.4)\n",
      "Requirement already satisfied, skipping upgrade: requests<3,>=2.24.0 in /config/.local/lib/python3.8/site-packages (from ydata_profiling) (2.25.1)\n",
      "Requirement already satisfied, skipping upgrade: scipy<1.12,>=1.4.1 in /config/.local/lib/python3.8/site-packages (from ydata_profiling) (1.6.0)\n",
      "Requirement already satisfied, skipping upgrade: dacite>=1.8 in /config/.local/lib/python3.8/site-packages (from ydata_profiling) (1.8.1)\n",
      "Requirement already satisfied, skipping upgrade: typeguard<5,>=4.1.2 in /config/.local/lib/python3.8/site-packages (from ydata_profiling) (4.1.5)\n",
      "Requirement already satisfied, skipping upgrade: multimethod<2,>=1.4 in /config/.local/lib/python3.8/site-packages (from ydata_profiling) (1.10)\n",
      "Requirement already satisfied, skipping upgrade: imagehash==4.3.1 in /config/.local/lib/python3.8/site-packages (from ydata_profiling) (4.3.1)\n",
      "Requirement already satisfied, skipping upgrade: numba<0.59.0,>=0.56.0 in /config/.local/lib/python3.8/site-packages (from ydata_profiling) (0.56.0)\n",
      "Requirement already satisfied, skipping upgrade: statsmodels<1,>=0.13.2 in /config/.local/lib/python3.8/site-packages (from ydata_profiling) (0.13.2)\n",
      "Requirement already satisfied, skipping upgrade: htmlmin==0.1.12 in /config/.local/lib/python3.8/site-packages (from ydata_profiling) (0.1.12)\n",
      "Requirement already satisfied, skipping upgrade: pydantic>=2 in /config/.local/lib/python3.8/site-packages (from ydata_profiling) (2.6.1)\n",
      "Requirement already satisfied, skipping upgrade: numpy<1.26,>=1.16.0 in /config/.local/lib/python3.8/site-packages (from ydata_profiling) (1.20.1)\n",
      "Requirement already satisfied, skipping upgrade: seaborn<0.13,>=0.10.1 in /config/.local/lib/python3.8/site-packages (from ydata_profiling) (0.11.1)\n",
      "Requirement already satisfied, skipping upgrade: phik<0.13,>=0.11.1 in /config/.local/lib/python3.8/site-packages (from ydata_profiling) (0.11.1)\n",
      "Requirement already satisfied, skipping upgrade: tangled-up-in-unicode>=0.0.4 in /config/.local/lib/python3.8/site-packages (from visions[type_image_path]==0.7.5->ydata_profiling) (0.0.6)\n",
      "Requirement already satisfied, skipping upgrade: attrs>=19.3.0 in /config/.local/lib/python3.8/site-packages (from visions[type_image_path]==0.7.5->ydata_profiling) (20.3.0)\n",
      "Requirement already satisfied, skipping upgrade: networkx>=2.4 in /config/.local/lib/python3.8/site-packages (from visions[type_image_path]==0.7.5->ydata_profiling) (2.5)\n",
      "Requirement already satisfied, skipping upgrade: Pillow; extra == \"type_image_path\" in /config/.local/lib/python3.8/site-packages (from visions[type_image_path]==0.7.5->ydata_profiling) (8.1.0)\n",
      "Requirement already satisfied, skipping upgrade: pytz>=2017.3 in /config/.local/lib/python3.8/site-packages (from pandas!=1.4.0,<3,>1.1->ydata_profiling) (2021.1)\n",
      "Requirement already satisfied, skipping upgrade: python-dateutil>=2.7.3 in /config/.local/lib/python3.8/site-packages (from pandas!=1.4.0,<3,>1.1->ydata_profiling) (2.8.1)\n",
      "Requirement already satisfied, skipping upgrade: MarkupSafe>=0.23 in /config/.local/lib/python3.8/site-packages (from jinja2<3.2,>=2.11.1->ydata_profiling) (1.1.1)\n",
      "Requirement already satisfied, skipping upgrade: kiwisolver>=1.0.1 in /config/.local/lib/python3.8/site-packages (from matplotlib<3.9,>=3.2->ydata_profiling) (1.3.1)\n",
      "Requirement already satisfied, skipping upgrade: pyparsing!=2.0.4,!=2.1.2,!=2.1.6,>=2.0.3 in /config/.local/lib/python3.8/site-packages (from matplotlib<3.9,>=3.2->ydata_profiling) (2.4.7)\n",
      "Requirement already satisfied, skipping upgrade: cycler>=0.10 in /config/.local/lib/python3.8/site-packages (from matplotlib<3.9,>=3.2->ydata_profiling) (0.10.0)\n",
      "Requirement already satisfied, skipping upgrade: urllib3<1.27,>=1.21.1 in /config/.local/lib/python3.8/site-packages (from requests<3,>=2.24.0->ydata_profiling) (1.26.3)\n",
      "Requirement already satisfied, skipping upgrade: chardet<5,>=3.0.2 in /config/.local/lib/python3.8/site-packages (from requests<3,>=2.24.0->ydata_profiling) (4.0.0)\n",
      "Requirement already satisfied, skipping upgrade: idna<3,>=2.5 in /config/.local/lib/python3.8/site-packages (from requests<3,>=2.24.0->ydata_profiling) (2.10)\n",
      "Requirement already satisfied, skipping upgrade: certifi>=2017.4.17 in /config/.local/lib/python3.8/site-packages (from requests<3,>=2.24.0->ydata_profiling) (2020.12.5)\n",
      "Requirement already satisfied, skipping upgrade: typing-extensions>=4.7.0; python_version < \"3.12\" in /config/.local/lib/python3.8/site-packages (from typeguard<5,>=4.1.2->ydata_profiling) (4.9.0)\n",
      "Requirement already satisfied, skipping upgrade: importlib-metadata>=3.6; python_version < \"3.10\" in /config/.local/lib/python3.8/site-packages (from typeguard<5,>=4.1.2->ydata_profiling) (7.0.1)\n",
      "Requirement already satisfied, skipping upgrade: PyWavelets in /config/.local/lib/python3.8/site-packages (from imagehash==4.3.1->ydata_profiling) (1.1.1)\n",
      "Requirement already satisfied, skipping upgrade: setuptools in /usr/lib/python3/dist-packages (from numba<0.59.0,>=0.56.0->ydata_profiling) (45.2.0)\n",
      "Requirement already satisfied, skipping upgrade: llvmlite<0.40,>=0.39.0dev0 in /config/.local/lib/python3.8/site-packages (from numba<0.59.0,>=0.56.0->ydata_profiling) (0.39.1)\n",
      "Requirement already satisfied, skipping upgrade: patsy>=0.5.2 in /config/.local/lib/python3.8/site-packages (from statsmodels<1,>=0.13.2->ydata_profiling) (0.5.2)\n",
      "Requirement already satisfied, skipping upgrade: packaging>=21.3 in /config/.local/lib/python3.8/site-packages (from statsmodels<1,>=0.13.2->ydata_profiling) (21.3)\n",
      "Requirement already satisfied, skipping upgrade: annotated-types>=0.4.0 in /config/.local/lib/python3.8/site-packages (from pydantic>=2->ydata_profiling) (0.6.0)\n",
      "Requirement already satisfied, skipping upgrade: pydantic-core==2.16.2 in /config/.local/lib/python3.8/site-packages (from pydantic>=2->ydata_profiling) (2.16.2)\n",
      "Requirement already satisfied, skipping upgrade: joblib>=0.14.1 in /config/.local/lib/python3.8/site-packages (from phik<0.13,>=0.11.1->ydata_profiling) (1.0.1)\n",
      "Requirement already satisfied, skipping upgrade: decorator>=4.3.0 in /config/.local/lib/python3.8/site-packages (from networkx>=2.4->visions[type_image_path]==0.7.5->ydata_profiling) (4.4.2)\n",
      "Requirement already satisfied, skipping upgrade: six>=1.5 in /config/.local/lib/python3.8/site-packages (from python-dateutil>=2.7.3->pandas!=1.4.0,<3,>1.1->ydata_profiling) (1.15.0)\n",
      "Requirement already satisfied, skipping upgrade: zipp>=0.5 in /config/.local/lib/python3.8/site-packages (from importlib-metadata>=3.6; python_version < \"3.10\"->typeguard<5,>=4.1.2->ydata_profiling) (3.17.0)\n",
      "Note: you may need to restart the kernel to use updated packages.\n"
     ]
    }
   ],
   "source": [
    "pip install --upgrade ydata_profiling"
   ]
  },
  {
   "cell_type": "markdown",
   "metadata": {},
   "source": [
    "## Load data"
   ]
  },
  {
   "cell_type": "code",
   "execution_count": 3,
   "metadata": {},
   "outputs": [],
   "source": [
    "train = pd.read_csv('/config/workspace/dataset/training_set_features.csv', index_col='respondent_id')"
   ]
  },
  {
   "cell_type": "code",
   "execution_count": 4,
   "metadata": {},
   "outputs": [],
   "source": [
    "labels = pd.read_csv('/config/workspace/dataset/training_set_labels.csv', index_col='respondent_id')"
   ]
  },
  {
   "cell_type": "code",
   "execution_count": 5,
   "metadata": {},
   "outputs": [],
   "source": [
    "test = pd.read_csv('/config/workspace/dataset/test_set_features.csv', index_col='respondent_id')"
   ]
  },
  {
   "cell_type": "markdown",
   "metadata": {},
   "source": [
    "### Imputation strategy"
   ]
  },
  {
   "cell_type": "code",
   "execution_count": 6,
   "metadata": {},
   "outputs": [],
   "source": [
    "num_cols = train.select_dtypes('number').columns"
   ]
  },
  {
   "cell_type": "code",
   "execution_count": 7,
   "metadata": {},
   "outputs": [],
   "source": [
    "cat_cols = ['race', 'sex', \n",
    "       'marital_status', 'rent_or_own',  'hhs_geo_region',\n",
    "       'census_msa', 'employment_industry', 'employment_occupation']"
   ]
  },
  {
   "cell_type": "code",
   "execution_count": 8,
   "metadata": {},
   "outputs": [],
   "source": [
    "ord_cols = ['age_group', 'education',  'income_poverty',\n",
    "        'employment_status']"
   ]
  },
  {
   "cell_type": "code",
   "execution_count": 9,
   "metadata": {},
   "outputs": [],
   "source": [
    "assert len(num_cols)+len(cat_cols)+len(ord_cols) == train.shape[1]"
   ]
  },
  {
   "cell_type": "code",
   "execution_count": 10,
   "metadata": {},
   "outputs": [],
   "source": [
    "from sklearn.pipeline import Pipeline\n",
    "from sklearn.preprocessing import MinMaxScaler, StandardScaler, OneHotEncoder\n",
    "from sklearn.impute import SimpleImputer\n",
    "from sklearn.compose import ColumnTransformer\n",
    "from category_encoders import OrdinalEncoder as oe\n",
    "from catboost import CatBoostClassifier\n",
    "from catboost import Pool, cv\n",
    "from sklearn.metrics import roc_curve, roc_auc_score\n",
    "import optuna"
   ]
  },
  {
   "cell_type": "markdown",
   "metadata": {},
   "source": [
    "#### Impute train"
   ]
  },
  {
   "cell_type": "code",
   "execution_count": 11,
   "metadata": {},
   "outputs": [],
   "source": [
    "# Categorical columns None\n",
    "for col in (cat_cols+ord_cols):\n",
    "    train[col] = train[col].fillna(value='None')"
   ]
  },
  {
   "cell_type": "code",
   "execution_count": 12,
   "metadata": {},
   "outputs": [],
   "source": [
    "for col in num_cols:\n",
    "    train[col] = train[col].fillna(value=-1)"
   ]
  },
  {
   "cell_type": "markdown",
   "metadata": {},
   "source": [
    "#### Impute test"
   ]
  },
  {
   "cell_type": "code",
   "execution_count": 13,
   "metadata": {},
   "outputs": [],
   "source": [
    "# Categorical columns None\n",
    "for col in (cat_cols+ord_cols):\n",
    "    test[col] = test[col].fillna(value='None')"
   ]
  },
  {
   "cell_type": "code",
   "execution_count": 14,
   "metadata": {},
   "outputs": [],
   "source": [
    "for col in num_cols:\n",
    "    test[col] = test[col].fillna(value=-1)"
   ]
  },
  {
   "cell_type": "code",
   "execution_count": 15,
   "metadata": {},
   "outputs": [],
   "source": [
    "### Train test split"
   ]
  },
  {
   "cell_type": "code",
   "execution_count": 16,
   "metadata": {},
   "outputs": [],
   "source": [
    "from sklearn.model_selection import train_test_split"
   ]
  },
  {
   "cell_type": "code",
   "execution_count": 17,
   "metadata": {},
   "outputs": [],
   "source": [
    "X_train, X_test, y_train, y_test = train_test_split( train, labels, test_size=0.3, random_state=68)"
   ]
  },
  {
   "cell_type": "code",
   "execution_count": 18,
   "metadata": {},
   "outputs": [],
   "source": [
    "# Get the index number of categorical features\n",
    "categorical_features_indices = np.where(X_train.dtypes != float)[0]"
   ]
  },
  {
   "cell_type": "code",
   "execution_count": 19,
   "metadata": {},
   "outputs": [],
   "source": [
    "train_dataset = Pool(data=X_train,\n",
    "                     label=y_train.h1n1_vaccine,\n",
    "                     cat_features = categorical_features_indices)"
   ]
  },
  {
   "cell_type": "code",
   "execution_count": 20,
   "metadata": {},
   "outputs": [],
   "source": [
    "def objective(trial):\n",
    "    param = {\n",
    "        'iterations':trial.suggest_categorical('iterations', [100,200,300,500,1000,1200,1500]),\n",
    "        'learning_rate':trial.suggest_float(\"learning_rate\", 0.001, 0.3),\n",
    "        'random_strength':trial.suggest_int(\"random_strength\", 1,10),\n",
    "        'bagging_temperature':trial.suggest_int(\"bagging_temperature\", 0,10),\n",
    "        'max_bin':trial.suggest_categorical('max_bin', [4,5,6,8,10,20,30]),\n",
    "        'grow_policy':trial.suggest_categorical('grow_policy', ['SymmetricTree', 'Depthwise', 'Lossguide']),\n",
    "        'min_data_in_leaf':trial.suggest_int(\"min_data_in_leaf\", 1,10),\n",
    "        'od_type' : \"Iter\",\n",
    "        'od_wait' : 100,\n",
    "        \"depth\": trial.suggest_int(\"max_depth\", 2,10),\n",
    "        \"l2_leaf_reg\": trial.suggest_loguniform(\"l2_leaf_reg\", 1e-8, 100),\n",
    "         'one_hot_max_size':trial.suggest_categorical('one_hot_max_size', [5,10,12,100,500,1024]),\n",
    "        'custom_metric' : ['AUC'],\n",
    "        \"loss_function\": \"Logloss\",\n",
    "        'auto_class_weights':trial.suggest_categorical('auto_class_weights', ['Balanced', 'SqrtBalanced']),\n",
    "        }\n",
    "\n",
    "    scores = cv(train_dataset,\n",
    "            param,\n",
    "            fold_count=5, \n",
    "            early_stopping_rounds=10,         \n",
    "            plot=False, verbose=False)\n",
    "\n",
    "    return scores['test-AUC-mean'].max()"
   ]
  },
  {
   "cell_type": "code",
   "execution_count": 21,
   "metadata": {},
   "outputs": [
    {
     "name": "stderr",
     "output_type": "stream",
     "text": [
      "\u001b[32m[I 2024-02-23 02:55:59,226]\u001b[0m A new study created in memory with name: no-name-7b9a0f52-d209-4943-8036-66af6d57c93f\u001b[0m\n"
     ]
    },
    {
     "name": "stdout",
     "output_type": "stream",
     "text": [
      "Training on fold [0/5]\n",
      "\n",
      "bestTest = 0.4315445253\n",
      "bestIteration = 299\n",
      "\n",
      "Training on fold [1/5]\n",
      "\n",
      "bestTest = 0.4274361446\n",
      "bestIteration = 299\n",
      "\n",
      "Training on fold [2/5]\n",
      "\n",
      "bestTest = 0.4384665258\n",
      "bestIteration = 299\n",
      "\n",
      "Training on fold [3/5]\n",
      "\n",
      "bestTest = 0.4322242789\n",
      "bestIteration = 299\n",
      "\n",
      "Training on fold [4/5]\n"
     ]
    },
    {
     "name": "stderr",
     "output_type": "stream",
     "text": [
      "\u001b[32m[I 2024-02-23 02:59:10,905]\u001b[0m Trial 0 finished with value: 0.863497321698375 and parameters: {'iterations': 300, 'learning_rate': 0.013964954297408176, 'random_strength': 1, 'bagging_temperature': 8, 'max_bin': 10, 'grow_policy': 'Lossguide', 'min_data_in_leaf': 4, 'max_depth': 5, 'l2_leaf_reg': 21.328495943450676, 'one_hot_max_size': 100, 'auto_class_weights': 'SqrtBalanced'}. Best is trial 0 with value: 0.863497321698375.\u001b[0m\n"
     ]
    },
    {
     "name": "stdout",
     "output_type": "stream",
     "text": [
      "\n",
      "bestTest = 0.4350673967\n",
      "bestIteration = 299\n",
      "\n",
      "Training on fold [0/5]\n",
      "\n",
      "bestTest = 0.4249302434\n",
      "bestIteration = 110\n",
      "\n",
      "Training on fold [1/5]\n",
      "\n",
      "bestTest = 0.4211924471\n",
      "bestIteration = 128\n",
      "\n",
      "Training on fold [2/5]\n",
      "\n",
      "bestTest = 0.4320824886\n",
      "bestIteration = 125\n",
      "\n",
      "Training on fold [3/5]\n",
      "\n",
      "bestTest = 0.4278454245\n",
      "bestIteration = 116\n",
      "\n",
      "Training on fold [4/5]\n"
     ]
    },
    {
     "name": "stderr",
     "output_type": "stream",
     "text": [
      "\u001b[32m[I 2024-02-23 03:00:31,489]\u001b[0m Trial 1 finished with value: 0.863269013814264 and parameters: {'iterations': 1200, 'learning_rate': 0.11477165079768124, 'random_strength': 9, 'bagging_temperature': 6, 'max_bin': 5, 'grow_policy': 'Lossguide', 'min_data_in_leaf': 5, 'max_depth': 7, 'l2_leaf_reg': 0.5714362138520529, 'one_hot_max_size': 500, 'auto_class_weights': 'SqrtBalanced'}. Best is trial 0 with value: 0.863497321698375.\u001b[0m\n"
     ]
    },
    {
     "name": "stdout",
     "output_type": "stream",
     "text": [
      "\n",
      "bestTest = 0.4300049989\n",
      "bestIteration = 128\n",
      "\n",
      "Training on fold [0/5]\n",
      "\n",
      "bestTest = 0.4753784322\n",
      "bestIteration = 129\n",
      "\n",
      "Training on fold [1/5]\n",
      "\n",
      "bestTest = 0.4516162867\n",
      "bestIteration = 235\n",
      "\n",
      "Training on fold [2/5]\n",
      "\n",
      "bestTest = 0.4585822194\n",
      "bestIteration = 318\n",
      "\n",
      "Training on fold [3/5]\n",
      "\n",
      "bestTest = 0.4613918582\n",
      "bestIteration = 215\n",
      "\n",
      "Training on fold [4/5]\n"
     ]
    },
    {
     "name": "stderr",
     "output_type": "stream",
     "text": [
      "\u001b[32m[I 2024-02-23 03:02:15,575]\u001b[0m Trial 2 finished with value: 0.8626100061884463 and parameters: {'iterations': 1500, 'learning_rate': 0.06018181691194878, 'random_strength': 6, 'bagging_temperature': 4, 'max_bin': 10, 'grow_policy': 'Lossguide', 'min_data_in_leaf': 6, 'max_depth': 4, 'l2_leaf_reg': 7.937278880272323e-06, 'one_hot_max_size': 12, 'auto_class_weights': 'Balanced'}. Best is trial 0 with value: 0.863497321698375.\u001b[0m\n"
     ]
    },
    {
     "name": "stdout",
     "output_type": "stream",
     "text": [
      "\n",
      "bestTest = 0.4639801323\n",
      "bestIteration = 212\n",
      "\n",
      "Training on fold [0/5]\n",
      "\n",
      "bestTest = 0.4331103639\n",
      "bestIteration = 99\n",
      "\n",
      "Training on fold [1/5]\n",
      "\n",
      "bestTest = 0.4282282172\n",
      "bestIteration = 99\n",
      "\n",
      "Training on fold [2/5]\n",
      "\n",
      "bestTest = 0.4367371853\n",
      "bestIteration = 97\n",
      "\n",
      "Training on fold [3/5]\n",
      "\n",
      "bestTest = 0.4338402326\n",
      "bestIteration = 99\n",
      "\n",
      "Training on fold [4/5]\n"
     ]
    },
    {
     "name": "stderr",
     "output_type": "stream",
     "text": [
      "\u001b[32m[I 2024-02-23 03:03:19,397]\u001b[0m Trial 3 finished with value: 0.8616760026909407 and parameters: {'iterations': 100, 'learning_rate': 0.04917655399574397, 'random_strength': 1, 'bagging_temperature': 5, 'max_bin': 30, 'grow_policy': 'Lossguide', 'min_data_in_leaf': 3, 'max_depth': 6, 'l2_leaf_reg': 1.253388039132331e-06, 'one_hot_max_size': 500, 'auto_class_weights': 'SqrtBalanced'}. Best is trial 0 with value: 0.863497321698375.\u001b[0m\n"
     ]
    },
    {
     "name": "stdout",
     "output_type": "stream",
     "text": [
      "\n",
      "bestTest = 0.4323481015\n",
      "bestIteration = 99\n",
      "\n",
      "Training on fold [0/5]\n",
      "\n",
      "bestTest = 0.429245159\n",
      "bestIteration = 135\n",
      "\n",
      "Training on fold [1/5]\n",
      "\n",
      "bestTest = 0.4226120359\n",
      "bestIteration = 124\n",
      "\n",
      "Training on fold [2/5]\n",
      "\n",
      "bestTest = 0.4317775965\n",
      "bestIteration = 132\n",
      "\n",
      "Training on fold [3/5]\n",
      "\n",
      "bestTest = 0.4236917955\n",
      "bestIteration = 145\n",
      "\n",
      "Training on fold [4/5]\n"
     ]
    },
    {
     "name": "stderr",
     "output_type": "stream",
     "text": [
      "\u001b[32m[I 2024-02-23 03:03:53,577]\u001b[0m Trial 4 finished with value: 0.8640523372521614 and parameters: {'iterations': 1500, 'learning_rate': 0.20567786125414012, 'random_strength': 8, 'bagging_temperature': 7, 'max_bin': 20, 'grow_policy': 'Lossguide', 'min_data_in_leaf': 7, 'max_depth': 2, 'l2_leaf_reg': 0.0011659140576640084, 'one_hot_max_size': 12, 'auto_class_weights': 'SqrtBalanced'}. Best is trial 4 with value: 0.8640523372521614.\u001b[0m\n"
     ]
    },
    {
     "name": "stdout",
     "output_type": "stream",
     "text": [
      "\n",
      "bestTest = 0.4284532832\n",
      "bestIteration = 130\n",
      "\n",
      "Training on fold [0/5]\n",
      "\n",
      "bestTest = 0.4314479907\n",
      "bestIteration = 46\n",
      "\n",
      "Training on fold [1/5]\n",
      "\n",
      "bestTest = 0.4298937944\n",
      "bestIteration = 64\n",
      "\n",
      "Training on fold [2/5]\n",
      "\n",
      "bestTest = 0.4391929406\n",
      "bestIteration = 56\n",
      "\n",
      "Training on fold [3/5]\n",
      "\n",
      "bestTest = 0.4317307431\n",
      "bestIteration = 55\n",
      "\n",
      "Training on fold [4/5]\n"
     ]
    },
    {
     "name": "stderr",
     "output_type": "stream",
     "text": [
      "\u001b[32m[I 2024-02-23 03:04:19,182]\u001b[0m Trial 5 finished with value: 0.8597554565769834 and parameters: {'iterations': 100, 'learning_rate': 0.21103536986772822, 'random_strength': 4, 'bagging_temperature': 4, 'max_bin': 6, 'grow_policy': 'Lossguide', 'min_data_in_leaf': 6, 'max_depth': 4, 'l2_leaf_reg': 1.5248267732768012e-08, 'one_hot_max_size': 100, 'auto_class_weights': 'SqrtBalanced'}. Best is trial 4 with value: 0.8640523372521614.\u001b[0m\n"
     ]
    },
    {
     "name": "stdout",
     "output_type": "stream",
     "text": [
      "\n",
      "bestTest = 0.4347186712\n",
      "bestIteration = 51\n",
      "\n",
      "Training on fold [0/5]\n",
      "\n",
      "bestTest = 0.462311859\n",
      "bestIteration = 352\n",
      "\n",
      "Training on fold [1/5]\n",
      "\n",
      "bestTest = 0.4520983715\n",
      "bestIteration = 449\n",
      "\n",
      "Training on fold [2/5]\n",
      "\n",
      "bestTest = 0.4674704404\n",
      "bestIteration = 373\n",
      "\n",
      "Training on fold [3/5]\n",
      "\n",
      "bestTest = 0.4597967289\n",
      "bestIteration = 364\n",
      "\n",
      "Training on fold [4/5]\n"
     ]
    },
    {
     "name": "stderr",
     "output_type": "stream",
     "text": [
      "\u001b[32m[I 2024-02-23 03:06:25,125]\u001b[0m Trial 6 finished with value: 0.8632808058136264 and parameters: {'iterations': 1000, 'learning_rate': 0.039222305770230614, 'random_strength': 5, 'bagging_temperature': 3, 'max_bin': 20, 'grow_policy': 'SymmetricTree', 'min_data_in_leaf': 10, 'max_depth': 4, 'l2_leaf_reg': 3.544948380552023e-06, 'one_hot_max_size': 10, 'auto_class_weights': 'Balanced'}. Best is trial 4 with value: 0.8640523372521614.\u001b[0m\n"
     ]
    },
    {
     "name": "stdout",
     "output_type": "stream",
     "text": [
      "\n",
      "bestTest = 0.4660473039\n",
      "bestIteration = 322\n",
      "\n",
      "Training on fold [0/5]\n",
      "\n",
      "bestTest = 0.4711987083\n",
      "bestIteration = 214\n",
      "\n",
      "Training on fold [1/5]\n"
     ]
    }
   ],
   "source": [
    "sampler = optuna.samplers.TPESampler(seed=68)  # Make the sampler behave in a deterministic way.\n",
    "study = optuna.create_study(direction=\"maximize\", sampler=sampler)\n",
    "study.optimize(objective, n_trials=100)"
   ]
  },
  {
   "cell_type": "code",
   "execution_count": null,
   "metadata": {},
   "outputs": [],
   "source": [
    "print(\"Number of finished trials: {}\".format(len(study.trials)))\n",
    "print(\"Best trial:\")\n",
    "trial = study.best_trial\n",
    "print(\"  Value: {}\".format(trial.value))\n",
    "print(\"  Params: \")\n",
    "for key, value in trial.params.items():\n",
    "    print(\"    {}={},\".format(key, value))\n"
   ]
  },
  {
   "cell_type": "code",
   "execution_count": null,
   "metadata": {},
   "outputs": [],
   "source": [
    "### Check the model"
   ]
  },
  {
   "cell_type": "code",
   "execution_count": null,
   "metadata": {},
   "outputs": [],
   "source": [
    "final_model = CatBoostClassifier(verbose=False,  cat_features=categorical_features_indices, \n",
    "                          **trial.params)"
   ]
  },
  {
   "cell_type": "code",
   "execution_count": null,
   "metadata": {},
   "outputs": [],
   "source": [
    "final_model.fit(X_train, y_train.h1n1_vaccine)"
   ]
  },
  {
   "cell_type": "code",
   "execution_count": null,
   "metadata": {},
   "outputs": [],
   "source": [
    "predictions_h1 = final_model.predict_proba(X_test)"
   ]
  },
  {
   "cell_type": "code",
   "execution_count": null,
   "metadata": {},
   "outputs": [],
   "source": [
    "predictions_h1 = predictions_h1[:,1].reshape(-1,1)"
   ]
  },
  {
   "cell_type": "code",
   "execution_count": null,
   "metadata": {},
   "outputs": [],
   "source": [
    "from sklearn.metrics import roc_curve, roc_auc_score"
   ]
  },
  {
   "cell_type": "code",
   "execution_count": null,
   "metadata": {},
   "outputs": [],
   "source": [
    "def plot_roc(y_true, y_score, label_name, ax):\n",
    "    fpr, tpr, thresholds = roc_curve(y_true, y_score)\n",
    "    ax.plot(fpr, tpr)\n",
    "    ax.plot([0, 1], [0, 1], color='grey', linestyle='--')\n",
    "    ax.set_ylabel('TPR')\n",
    "    ax.set_xlabel('FPR')\n",
    "    ax.set_title(\n",
    "        f\"{label_name}: AUC = {roc_auc_score(y_true, y_score):.4f}\"\n",
    "    )"
   ]
  },
  {
   "cell_type": "code",
   "execution_count": null,
   "metadata": {},
   "outputs": [],
   "source": [
    "fig, ax = plt.subplots(1, 1, figsize=(10, 8))\n",
    "plot_roc(\n",
    "    y_test['h1n1_vaccine'], \n",
    "    predictions_h1, \n",
    "    'h1n1_vaccine',\n",
    "    ax=ax\n",
    ")"
   ]
  },
  {
   "cell_type": "code",
   "execution_count": null,
   "metadata": {},
   "outputs": [],
   "source": [
    "roc_auc_score(y_test.h1n1_vaccine, predictions_h1)"
   ]
  },
  {
   "cell_type": "code",
   "execution_count": null,
   "metadata": {},
   "outputs": [],
   "source": [
    "train_dataset_se = Pool(data=X_train,\n",
    "                     label=y_train.seasonal_vaccine,\n",
    "                     cat_features = categorical_features_indices)"
   ]
  },
  {
   "cell_type": "code",
   "execution_count": null,
   "metadata": {},
   "outputs": [],
   "source": [
    "def objective2(trial):\n",
    "    param = {\n",
    "        'iterations':trial.suggest_categorical('iterations', [100,200,300,500,1000,1200,1500]),\n",
    "        'learning_rate':trial.suggest_float(\"learning_rate\", 0.001, 0.3),\n",
    "        'random_strength':trial.suggest_int(\"random_strength\", 1,10),\n",
    "        'bagging_temperature':trial.suggest_int(\"bagging_temperature\", 0,10),\n",
    "        'max_bin':trial.suggest_categorical('max_bin', [4,5,6,8,10,20,30]),\n",
    "        'grow_policy':trial.suggest_categorical('grow_policy', ['SymmetricTree', 'Depthwise', 'Lossguide']),\n",
    "        'min_data_in_leaf':trial.suggest_int(\"min_data_in_leaf\", 1,10),\n",
    "        'od_type' : \"Iter\",\n",
    "        'od_wait' : 100,\n",
    "        \"depth\": trial.suggest_int(\"max_depth\", 2,10),\n",
    "        \"l2_leaf_reg\": trial.suggest_loguniform(\"l2_leaf_reg\", 1e-8, 100),\n",
    "         'one_hot_max_size':trial.suggest_categorical('one_hot_max_size', [5,10,12,100,500,1024]),\n",
    "        'custom_metric' : ['AUC'],\n",
    "        \"loss_function\": \"Logloss\",\n",
    "        'auto_class_weights':trial.suggest_categorical('auto_class_weights', ['Balanced', 'SqrtBalanced']),\n",
    "        }\n",
    "\n",
    "    scores = cv(train_dataset_se,\n",
    "            param,\n",
    "            fold_count=5, \n",
    "            early_stopping_rounds=10,         \n",
    "            plot=False, verbose=False) \n",
    "\n",
    "    return scores['test-AUC-mean'].max()"
   ]
  },
  {
   "cell_type": "code",
   "execution_count": null,
   "metadata": {},
   "outputs": [],
   "source": [
    "sampler = optuna.samplers.TPESampler(seed=68)  # Make the sampler behave in a deterministic way.\n",
    "study2 = optuna.create_study(direction=\"maximize\", sampler=sampler)\n",
    "study2.optimize(objective2, n_trials=100)"
   ]
  },
  {
   "cell_type": "code",
   "execution_count": null,
   "metadata": {},
   "outputs": [],
   "source": [
    "print(\"Number of finished trials: {}\".format(len(study2.trials)))\n",
    "print(\"Best trial:\")\n",
    "trial2 = study2.best_trial\n",
    "print(\"  Value: {}\".format(trial2.value))\n",
    "print(\"  Params: \")\n",
    "for key, value in trial2.params.items():\n",
    "    print(\"    {}={},\".format(key, value))\n"
   ]
  },
  {
   "cell_type": "code",
   "execution_count": null,
   "metadata": {},
   "outputs": [],
   "source": [
    "final_model_se = CatBoostClassifier(verbose=False,  cat_features=categorical_features_indices, \n",
    "                                    **trial2.params)"
   ]
  },
  {
   "cell_type": "code",
   "execution_count": null,
   "metadata": {},
   "outputs": [],
   "source": [
    "final_model_se.fit(X_train, y_train.seasonal_vaccine)"
   ]
  },
  {
   "cell_type": "code",
   "execution_count": null,
   "metadata": {},
   "outputs": [],
   "source": [
    "predictions_se = final_model_se.predict_proba(X_test)"
   ]
  },
  {
   "cell_type": "code",
   "execution_count": null,
   "metadata": {},
   "outputs": [],
   "source": [
    "predictions_se = predictions_se[:,1].reshape(-1,1)"
   ]
  },
  {
   "cell_type": "code",
   "execution_count": null,
   "metadata": {},
   "outputs": [],
   "source": [
    "fig, ax = plt.subplots(1, 1, figsize=(10, 8))\n",
    "plot_roc(\n",
    "    y_test['seasonal_vaccine'], \n",
    "    predictions_se, \n",
    "    'seasonal_vaccine',\n",
    "    ax=ax\n",
    ")"
   ]
  },
  {
   "cell_type": "code",
   "execution_count": null,
   "metadata": {},
   "outputs": [],
   "source": [
    "roc_auc_score(y_test.seasonal_vaccine, predictions_se)"
   ]
  },
  {
   "cell_type": "markdown",
   "metadata": {},
   "source": [
    "## Combined score"
   ]
  },
  {
   "cell_type": "markdown",
   "metadata": {},
   "source": [
    "#### Seasonal"
   ]
  },
  {
   "cell_type": "code",
   "execution_count": null,
   "metadata": {},
   "outputs": [],
   "source": [
    "final_model_se.fit(train, labels.seasonal_vaccine)"
   ]
  },
  {
   "cell_type": "code",
   "execution_count": null,
   "metadata": {},
   "outputs": [],
   "source": [
    "final_se = final_model_se.predict_proba(test)"
   ]
  },
  {
   "cell_type": "code",
   "execution_count": null,
   "metadata": {},
   "outputs": [],
   "source": [
    "final_se = final_se[:,1].reshape(-1,1)"
   ]
  },
  {
   "cell_type": "markdown",
   "metadata": {},
   "source": [
    "#### H1N1"
   ]
  },
  {
   "cell_type": "code",
   "execution_count": null,
   "metadata": {},
   "outputs": [],
   "source": [
    "final_model.fit(train, labels.h1n1_vaccine)"
   ]
  },
  {
   "cell_type": "code",
   "execution_count": null,
   "metadata": {},
   "outputs": [],
   "source": [
    "final_h1 = final_model.predict_proba(test)"
   ]
  },
  {
   "cell_type": "code",
   "execution_count": null,
   "metadata": {},
   "outputs": [],
   "source": [
    "final_h1 = final_h1[:,1].reshape(-1,1)"
   ]
  },
  {
   "cell_type": "markdown",
   "metadata": {},
   "source": [
    "## Make submission"
   ]
  },
  {
   "cell_type": "code",
   "execution_count": null,
   "metadata": {},
   "outputs": [],
   "source": [
    "submission_df = pd.read_csv(\"./submission_format.csv\", \n",
    "                            index_col=\"respondent_id\")"
   ]
  },
  {
   "cell_type": "code",
   "execution_count": null,
   "metadata": {},
   "outputs": [],
   "source": [
    "# Make sure we have the rows in the same order\n",
    "np.testing.assert_array_equal(test.index.values, \n",
    "                              submission_df.index.values)\n",
    "\n",
    "# Save predictions to submission data frame\n",
    "submission_df[\"h1n1_vaccine\"] = final_h1\n",
    "submission_df[\"seasonal_vaccine\"] = final_se\n",
    "\n",
    "submission_df.head()"
   ]
  },
  {
   "cell_type": "code",
   "execution_count": null,
   "metadata": {},
   "outputs": [],
   "source": [
    "date = pd.Timestamp.now().strftime(format='%Y-%m-%d_%H-%M_')\n",
    "submission_df.to_csv(f'predictions/{date}submssion_catboost_optunacvi.csv', index=True)"
   ]
  },
  {
   "cell_type": "code",
   "execution_count": null,
   "metadata": {},
   "outputs": [],
   "source": []
  }
 ],
 "metadata": {
  "kernelspec": {
   "display_name": "Python 3.8.10 64-bit",
   "language": "python",
   "name": "python3"
  },
  "language_info": {
   "codemirror_mode": {
    "name": "ipython",
    "version": 3
   },
   "file_extension": ".py",
   "mimetype": "text/x-python",
   "name": "python",
   "nbconvert_exporter": "python",
   "pygments_lexer": "ipython3",
   "version": "3.8.10"
  },
  "orig_nbformat": 4,
  "vscode": {
   "interpreter": {
    "hash": "e7370f93d1d0cde622a1f8e1c04877d8463912d04d973331ad4851f04de6915a"
   }
  }
 },
 "nbformat": 4,
 "nbformat_minor": 2
}
